{
 "cells": [
  {
   "cell_type": "markdown",
   "metadata": {},
   "source": [
    "# Running PySpark with Cassandra using spark-cassandra-connector in Jupyter Notebook\n",
    "\n",
    "> Used movie lens data and loaded it to Cassandra. You will get latest movie lens data [here](https://grouplens.org/datasets/movielens/latest/)"
   ]
  },
  {
   "cell_type": "code",
   "execution_count": 1,
   "metadata": {},
   "outputs": [],
   "source": [
    "# Configuratins related to Cassandra connector & Cluster\n",
    "import os\n",
    "os.environ['PYSPARK_SUBMIT_ARGS'] = '--packages com.datastax.spark:spark-cassandra-connector_2.11:2.3.0 --conf spark.cassandra.connection.host=127.0.0.1 pyspark-shell'"
   ]
  },
  {
   "cell_type": "code",
   "execution_count": 2,
   "metadata": {},
   "outputs": [],
   "source": [
    "# Creating PySpark Context\n",
    "from pyspark import SparkContext\n",
    "sc = SparkContext(\"local\", \"movie lens app\")"
   ]
  },
  {
   "cell_type": "code",
   "execution_count": 3,
   "metadata": {},
   "outputs": [],
   "source": [
    "# Creating PySpark SQL Context\n",
    "from pyspark.sql import SQLContext\n",
    "sqlContext = SQLContext(sc)"
   ]
  },
  {
   "cell_type": "code",
   "execution_count": 4,
   "metadata": {},
   "outputs": [],
   "source": [
    "# Loads and returns data frame for a table including key space given\n",
    "def load_and_get_table_df(keys_space_name, table_name):\n",
    "    table_df = sqlContext.read\\\n",
    "        .format(\"org.apache.spark.sql.cassandra\")\\\n",
    "        .options(table=table_name, keyspace=keys_space_name)\\\n",
    "        .load()\n",
    "    return table_df"
   ]
  },
  {
   "cell_type": "code",
   "execution_count": 5,
   "metadata": {},
   "outputs": [],
   "source": [
    "# Loading movies & ratings table data frames\n",
    "movies = load_and_get_table_df(\"movie_lens\", \"movies\")\n",
    "ratings = load_and_get_table_df(\"movie_lens\", \"ratings\")"
   ]
  },
  {
   "cell_type": "code",
   "execution_count": 6,
   "metadata": {},
   "outputs": [
    {
     "name": "stdout",
     "output_type": "stream",
     "text": [
      "+--------+--------------------+--------------------+\n",
      "|movie_id|              genres|               title|\n",
      "+--------+--------------------+--------------------+\n",
      "|  166048|       Drama|Romance|Happy Birthday (2...|\n",
      "|   99572|               Drama|     Cornelis (2010)|\n",
      "|   96638|         Documentary|    Klitschko (2011)|\n",
      "|  146455|       Drama|Fantasy|      Hallway (2015)|\n",
      "|   87258|Crime|Drama|Film-...|    The Thief (1952)|\n",
      "|   69227|     Children|Comedy|Ernest Rides Agai...|\n",
      "|     678|      Drama|Thriller|Some Folks Call I...|\n",
      "|  154214|    Children|Fantasy|Barbara the Fair ...|\n",
      "|   71675|              Comedy|    Hiroshima (2009)|\n",
      "|  139918|     Documentary|War|The Ghost Army (2...|\n",
      "|  164753|             Romance|Anything for Love...|\n",
      "|  168310|  (no genres listed)|Μαριχουάνα Στοπ !...|\n",
      "|   93952|     Horror|Thriller|Silent House, The...|\n",
      "|  118204|Adventure|Documen...|     McConkey (2013)|\n",
      "|  168678|              Comedy|     Devolved (2010)|\n",
      "|  111852|         Documentary|Generation Iron (...|\n",
      "|   43333|       Drama|Romance|        Water (2005)|\n",
      "|  106026|      Comedy|Musical|Folies Bergere de...|\n",
      "|  105926|              Horror| Barrio Tales (2012)|\n",
      "|   36477|Comedy|Drama|Romance|  Baxter, The (2005)|\n",
      "+--------+--------------------+--------------------+\n",
      "only showing top 20 rows\n",
      "\n"
     ]
    }
   ],
   "source": [
    "# First 20 rows of movies table\n",
    "movies.show()"
   ]
  },
  {
   "cell_type": "code",
   "execution_count": 7,
   "metadata": {},
   "outputs": [
    {
     "name": "stdout",
     "output_type": "stream",
     "text": [
      "+-------+--------+------+----------+\n",
      "|user_id|movie_id|rating| timestamp|\n",
      "+-------+--------+------+----------+\n",
      "| 117752|     340|   5.0|1004221564|\n",
      "| 117752|    1275|   5.0|1004221564|\n",
      "| 117752|    1760|   5.0|1004221564|\n",
      "| 117752|    2028|   5.0|1004221564|\n",
      "| 117752|    2268|   5.0|1004221564|\n",
      "| 117752|    2643|   5.0|1004221564|\n",
      "| 117752|    3204|   5.0|1004221564|\n",
      "| 117752|    3677|   5.0|1004221564|\n",
      "| 117752|    4143|   4.0|1004221564|\n",
      "| 117752|    4565|   5.0|1004221564|\n",
      "| 122430|       1|   4.0| 832302134|\n",
      "| 122430|      25|   5.0| 850195697|\n",
      "| 122430|      34|   4.0| 832302184|\n",
      "| 122430|      50|   5.0| 832302207|\n",
      "| 122430|      52|   3.0| 850195768|\n",
      "| 122430|      69|   4.0| 832303477|\n",
      "| 122430|     110|   3.0| 832302172|\n",
      "| 122430|     111|   3.0| 832302229|\n",
      "| 122430|     122|   4.0| 832302922|\n",
      "| 122430|     145|   3.0| 832302767|\n",
      "+-------+--------+------+----------+\n",
      "only showing top 20 rows\n",
      "\n"
     ]
    }
   ],
   "source": [
    "# First 20 rows of ratings table\n",
    "ratings.show()"
   ]
  },
  {
   "cell_type": "code",
   "execution_count": 8,
   "metadata": {},
   "outputs": [
    {
     "name": "stdout",
     "output_type": "stream",
     "text": [
      "+-------+-----+\n",
      "|user_id|count|\n",
      "+-------+-----+\n",
      "|  45811|18276|\n",
      "|   8659| 9279|\n",
      "| 270123| 7638|\n",
      "| 179792| 7515|\n",
      "| 228291| 7410|\n",
      "| 243443| 6320|\n",
      "|  98415| 6094|\n",
      "| 229879| 6024|\n",
      "|  98787| 5814|\n",
      "| 172224| 5701|\n",
      "| 230417| 5619|\n",
      "|  70648| 5356|\n",
      "| 194690| 5206|\n",
      "| 107720| 5169|\n",
      "|  24025| 4946|\n",
      "| 165352| 4921|\n",
      "| 101276| 4834|\n",
      "| 243331| 4834|\n",
      "|  74275| 4815|\n",
      "|  41190| 4785|\n",
      "+-------+-----+\n",
      "only showing top 20 rows\n",
      "\n"
     ]
    }
   ],
   "source": [
    "# Top 20 reviewers in terms of number of ratings given\n",
    "ratings.groupBy(\"user_id\").count().orderBy('count', ascending=False).show()"
   ]
  },
  {
   "cell_type": "code",
   "execution_count": 9,
   "metadata": {},
   "outputs": [
    {
     "name": "stdout",
     "output_type": "stream",
     "text": [
      "root\n",
      " |-- user_id: integer (nullable = true)\n",
      " |-- movie_id: integer (nullable = true)\n",
      " |-- rating: double (nullable = true)\n",
      " |-- timestamp: long (nullable = true)\n",
      "\n"
     ]
    }
   ],
   "source": [
    "#Schema of ratings data frame\n",
    "ratings.printSchema()"
   ]
  },
  {
   "cell_type": "code",
   "execution_count": 10,
   "metadata": {},
   "outputs": [],
   "source": [
    "# Selecting 2 users rated movies\n",
    "firstUserMovies = ratings.where(ratings[\"user_id\"] == 45811).select(\"movie_id\")\n",
    "secondUserMovies = ratings.where(ratings[\"user_id\"] == 98415).select(\"movie_id\")"
   ]
  },
  {
   "cell_type": "code",
   "execution_count": 11,
   "metadata": {},
   "outputs": [],
   "source": [
    "# Caching the data frames of users\n",
    "firstUserMovies = firstUserMovies.cache()\n",
    "secondUserMovies = secondUserMovies.cache()"
   ]
  },
  {
   "cell_type": "code",
   "execution_count": 12,
   "metadata": {},
   "outputs": [
    {
     "name": "stdout",
     "output_type": "stream",
     "text": [
      "+--------+\n",
      "|movie_id|\n",
      "+--------+\n",
      "|     471|\n",
      "|    1088|\n",
      "|    1238|\n",
      "|    1342|\n",
      "|    1580|\n",
      "|    1645|\n",
      "|    1959|\n",
      "|    2122|\n",
      "|    2366|\n",
      "|    2866|\n",
      "|    3175|\n",
      "|    3918|\n",
      "|    5300|\n",
      "|    6357|\n",
      "|    6466|\n",
      "|    6620|\n",
      "|    6658|\n",
      "|    7253|\n",
      "|    7982|\n",
      "|    8638|\n",
      "+--------+\n",
      "only showing top 20 rows\n",
      "\n"
     ]
    }
   ],
   "source": [
    "# 20 common movies both users reviewed\n",
    "firstUserMovies.intersect(secondUserMovies).show()"
   ]
  },
  {
   "cell_type": "code",
   "execution_count": 13,
   "metadata": {},
   "outputs": [
    {
     "name": "stdout",
     "output_type": "stream",
     "text": [
      "+--------+\n",
      "|movie_id|\n",
      "+--------+\n",
      "|    3918|\n",
      "+--------+\n",
      "\n"
     ]
    }
   ],
   "source": [
    "# Verifying wether first user reviewed these movies or not\n",
    "firstUserMovies.where(firstUserMovies[\"movie_id\"] == 3918).show()"
   ]
  },
  {
   "cell_type": "code",
   "execution_count": 14,
   "metadata": {},
   "outputs": [
    {
     "name": "stdout",
     "output_type": "stream",
     "text": [
      "+--------+\n",
      "|movie_id|\n",
      "+--------+\n",
      "|    3918|\n",
      "+--------+\n",
      "\n"
     ]
    }
   ],
   "source": [
    "# Verifying wether second user reviewed these movies or not\n",
    "secondUserMovies.where(secondUserMovies[\"movie_id\"] == 3918).show()"
   ]
  },
  {
   "cell_type": "code",
   "execution_count": 15,
   "metadata": {},
   "outputs": [
    {
     "data": {
      "text/plain": [
       "4488"
      ]
     },
     "execution_count": 15,
     "metadata": {},
     "output_type": "execute_result"
    }
   ],
   "source": [
    "# Selecting number of movies both users reviewed\n",
    "firstUserMovies.intersect(secondUserMovies).count()"
   ]
  },
  {
   "cell_type": "code",
   "execution_count": 16,
   "metadata": {},
   "outputs": [
    {
     "data": {
      "text/plain": [
       "19882"
      ]
     },
     "execution_count": 16,
     "metadata": {},
     "output_type": "execute_result"
    }
   ],
   "source": [
    "# In total How many unique movies they reviewed\n",
    "firstUserMovies.union(secondUserMovies).distinct().count()"
   ]
  },
  {
   "cell_type": "code",
   "execution_count": 17,
   "metadata": {},
   "outputs": [
    {
     "data": {
      "text/plain": [
       "DataFrame[movie_id: int]"
      ]
     },
     "execution_count": 17,
     "metadata": {},
     "output_type": "execute_result"
    }
   ],
   "source": [
    "# Removing data frame from Cache\n",
    "firstUserMovies.unpersist()\n",
    "secondUserMovies.unpersist()"
   ]
  },
  {
   "cell_type": "code",
   "execution_count": 18,
   "metadata": {},
   "outputs": [],
   "source": [
    "# Shutdowning PySpark Context\n",
    "sc.stop()"
   ]
  }
 ],
 "metadata": {
  "celltoolbar": "Raw Cell Format",
  "kernelspec": {
   "display_name": "Python 3",
   "language": "python",
   "name": "python3"
  },
  "language_info": {
   "codemirror_mode": {
    "name": "ipython",
    "version": 3
   },
   "file_extension": ".py",
   "mimetype": "text/x-python",
   "name": "python",
   "nbconvert_exporter": "python",
   "pygments_lexer": "ipython3",
   "version": "3.7.0"
  }
 },
 "nbformat": 4,
 "nbformat_minor": 2
}
